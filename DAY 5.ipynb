{
 "cells": [
  {
   "cell_type": "markdown",
   "id": "01517703-4b47-467f-a6bb-a2715766df26",
   "metadata": {},
   "source": [
    "# TASK 1"
   ]
  },
  {
   "cell_type": "code",
   "execution_count": 2,
   "id": "721b3daf-8b92-449e-a148-a21d84424972",
   "metadata": {},
   "outputs": [
    {
     "name": "stdout",
     "output_type": "stream",
     "text": [
      "[ 3 72 16 50 52 27 52 17 11 19 72 27 38 91 72 55 42 70 17 65 90 85 61 96\n",
      " 36  8 70 28 87 68]\n"
     ]
    }
   ],
   "source": [
    "import numpy as np\n",
    "a=np.random.randint(1,101,size=30)\n",
    "print(a)"
   ]
  },
  {
   "cell_type": "markdown",
   "id": "948f9ea3-99bd-4a7e-b906-437f4444f8a8",
   "metadata": {},
   "source": [
    "# TASK 2"
   ]
  },
  {
   "cell_type": "code",
   "execution_count": 6,
   "id": "9bb91bbc-179e-4206-a220-87315e6745c0",
   "metadata": {},
   "outputs": [
    {
     "name": "stdout",
     "output_type": "stream",
     "text": [
      "1388\n",
      "46.266666666666666\n",
      "26.19787947313463\n"
     ]
    }
   ],
   "source": [
    "c=a.sum()\n",
    "print(c)\n",
    "print(a.mean())\n",
    "print(a.std())\n"
   ]
  },
  {
   "cell_type": "markdown",
   "id": "ecf7e30e-2c0f-425e-81e6-41d14c2ec7a2",
   "metadata": {},
   "source": [
    "# TASK 3"
   ]
  },
  {
   "cell_type": "code",
   "execution_count": 8,
   "id": "188272df-d00e-4ca8-8aae-23282b5ac293",
   "metadata": {},
   "outputs": [
    {
     "name": "stdout",
     "output_type": "stream",
     "text": [
      "[[1. 0. 0.]\n",
      " [0. 1. 0.]\n",
      " [0. 0. 1.]]\n"
     ]
    }
   ],
   "source": [
    "b=np.eye(3)\n",
    "print(b)"
   ]
  },
  {
   "cell_type": "markdown",
   "id": "baae08d9-c5f0-4eee-bc3b-10131ca777cb",
   "metadata": {},
   "source": [
    "# TASK 4"
   ]
  },
  {
   "cell_type": "code",
   "execution_count": 23,
   "id": "19efb5ac-465f-4095-a91e-6dc264893d3a",
   "metadata": {},
   "outputs": [
    {
     "name": "stdout",
     "output_type": "stream",
     "text": [
      "[12  1  7 11 16]\n"
     ]
    }
   ],
   "source": [
    "t4=np.random.randint(1,21,size=5)\n",
    "print(t4)"
   ]
  },
  {
   "cell_type": "markdown",
   "id": "b2837dc0-ed90-4de0-8e12-d986dbc4b3df",
   "metadata": {},
   "source": [
    "# TASK 5"
   ]
  },
  {
   "cell_type": "code",
   "execution_count": 29,
   "id": "7055f6de-e0e6-429e-b37d-d64d61db5442",
   "metadata": {},
   "outputs": [
    {
     "name": "stdout",
     "output_type": "stream",
     "text": [
      "[[55 75 36  6 75]\n",
      " [60 80 58 95 44]\n",
      " [85 72 92 31 55]\n",
      " [30 93 27 61 26]\n",
      " [16 38 92 22 37]]\n",
      "1361\n",
      "54.44\n",
      "26.374351176853622\n"
     ]
    }
   ],
   "source": [
    "t5=np.random.randint(1,100,size=(5,5))\n",
    "print(t5)\n",
    "print(t5.sum())\n",
    "print(t5.mean())\n",
    "print(t5.std())"
   ]
  },
  {
   "cell_type": "markdown",
   "id": "3e90c226-5fd3-4f46-b4fc-544c1086b8b2",
   "metadata": {},
   "source": [
    "# TASK 6"
   ]
  },
  {
   "cell_type": "code",
   "execution_count": 41,
   "id": "a94669cc-4160-47ed-a580-b8e9b166446a",
   "metadata": {},
   "outputs": [
    {
     "name": "stdout",
     "output_type": "stream",
     "text": [
      "[6 3 8 3 9 6 4 6 3 2 5 1 3 2 8 9 3 7 9 6 8 7 6 2 5 8 2 2 1 1 8 6 4 4 6 3 3\n",
      " 4 2 8 3 1 2 7 7 2 9 3 2 2 2 1 6 6 4 5 8 5 2 8 4 6 1 9 8 4 6 7 2 6 3 3 7 5\n",
      " 5 5 8 5 5 7 6 9 2 6 2 1 8 1 5 9 8 9 7 4 9 7 7 3 1 8]\n",
      "[ 0  9 15 12  8 10 14 10 13  9]\n",
      "most frequent: 2\n"
     ]
    }
   ],
   "source": [
    "a=np.random.randint(1,10,size=100)\n",
    "print(a)\n",
    "b=np.bincount(a)\n",
    "print(b)\n",
    "print(\"most frequent:\",np.argmax(b))"
   ]
  },
  {
   "cell_type": "code",
   "execution_count": 10,
   "id": "1a6eb90e-254c-4944-8959-6f1286137d63",
   "metadata": {},
   "outputs": [
    {
     "name": "stdout",
     "output_type": "stream",
     "text": [
      "[[ 5 29 18  2 11]\n",
      " [ 5  5 19  2  6]\n",
      " [ 6  4 14  4 13]\n",
      " [17 11  5  4 17]\n",
      " [25 25 22 22 12]]\n"
     ]
    }
   ],
   "source": [
    "np\n",
    "a=np.random.randint(1,30,size=(5,5))\n",
    "a[np.diag_indices(2)]=5\n",
    "print(a)\n"
   ]
  },
  {
   "cell_type": "markdown",
   "id": "10789e36-48d3-4837-adfa-92aad060d15d",
   "metadata": {},
   "source": [
    "# TASK 7"
   ]
  },
  {
   "cell_type": "code",
   "execution_count": 44,
   "id": "3e05d1e7-2910-4075-895f-7bc7f350bfcd",
   "metadata": {},
   "outputs": [
    {
     "name": "stdout",
     "output_type": "stream",
     "text": [
      "[[ 2 81 45  5]\n",
      " [92 91 96 29]\n",
      " [41 65 16 30]\n",
      " [78 41 45 46]]\n",
      "[[0.         0.84042553 0.45744681 0.03191489]\n",
      " [0.95744681 0.94680851 1.         0.28723404]\n",
      " [0.41489362 0.67021277 0.14893617 0.29787234]\n",
      " [0.80851064 0.41489362 0.45744681 0.46808511]]\n"
     ]
    }
   ],
   "source": [
    "a=np.random.randint(1,100,size=(4,4))\n",
    "print(a)\n",
    "b=(((a-a.min())/(a.max()-a.min())))\n",
    "print(b)"
   ]
  },
  {
   "cell_type": "markdown",
   "id": "12283af6-79fa-4e33-a2c1-3b4306ef6f9d",
   "metadata": {},
   "source": [
    "# TASK 8"
   ]
  },
  {
   "cell_type": "code",
   "execution_count": 50,
   "id": "46e5f109-3e61-4231-a25b-dc6196c67493",
   "metadata": {},
   "outputs": [
    {
     "name": "stdout",
     "output_type": "stream",
     "text": [
      "[[7 1 8]\n",
      " [3 9 2]\n",
      " [3 1 6]]\n",
      "\n",
      "\n",
      "[[7 1 6]\n",
      " [1 7 9]\n",
      " [7 6 5]]\n",
      "\n",
      "[[49  1 48]\n",
      " [ 3 63 18]\n",
      " [21  6 30]]\n",
      "\n",
      "[[106  62  91]\n",
      " [ 44  78 109]\n",
      " [ 64  46  57]]\n",
      "\n",
      "[[106  62  91]\n",
      " [ 44  78 109]\n",
      " [ 64  46  57]]\n",
      "[[7 3 3]\n",
      " [1 9 1]\n",
      " [8 2 6]]\n",
      "159.99999999999994\n",
      "[[ 0.325   0.0125 -0.4375]\n",
      " [-0.075   0.1125  0.0625]\n",
      " [-0.15   -0.025   0.375 ]]\n",
      "3\n",
      "EigResult(eigenvalues=array([12.85617408,  1.66381978,  7.48000614]), eigenvectors=array([[-0.62779305, -0.827082  ,  0.37345271],\n",
      "       [-0.68250772,  0.19444627, -0.91746351],\n",
      "       [-0.37424471,  0.52737654,  0.13709039]]))\n"
     ]
    }
   ],
   "source": [
    "a=np.random.randint(1,10,size=(3,3))\n",
    "print(a)\n",
    "print()\n",
    "b=np.random.randint(1,10,size=(3,3))\n",
    "print()\n",
    "print(b)\n",
    "print()\n",
    "print(a*b)\n",
    "print()\n",
    "print(np.dot(a,b))\n",
    "print()\n",
    "print(a@b)\n",
    "print(a.T)\n",
    "print(np.linalg.det(a))\n",
    "print(np.linalg.inv(a))\n",
    "print(np.linalg.matrix_rank(a))\n",
    "print(np.linalg.eig(a))"
   ]
  },
  {
   "cell_type": "code",
   "execution_count": null,
   "id": "68064c6e-0780-44dc-8940-f1aa7d234abc",
   "metadata": {},
   "outputs": [],
   "source": []
  }
 ],
 "metadata": {
  "kernelspec": {
   "display_name": "Python 3 (ipykernel)",
   "language": "python",
   "name": "python3"
  },
  "language_info": {
   "codemirror_mode": {
    "name": "ipython",
    "version": 3
   },
   "file_extension": ".py",
   "mimetype": "text/x-python",
   "name": "python",
   "nbconvert_exporter": "python",
   "pygments_lexer": "ipython3",
   "version": "3.10.18"
  }
 },
 "nbformat": 4,
 "nbformat_minor": 5
}
