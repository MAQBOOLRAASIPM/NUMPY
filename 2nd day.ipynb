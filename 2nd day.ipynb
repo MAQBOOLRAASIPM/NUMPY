{
 "cells": [
  {
   "cell_type": "markdown",
   "id": "69025582-f5b9-4578-9316-06cd23b7f99f",
   "metadata": {},
   "source": [
    "# Broadcasting"
   ]
  },
  {
   "cell_type": "code",
   "execution_count": 1,
   "id": "eadd323a-d4d5-4e27-8dda-70862da0f3d7",
   "metadata": {},
   "outputs": [
    {
     "name": "stdout",
     "output_type": "stream",
     "text": [
      "[11 12 13]\n"
     ]
    }
   ],
   "source": [
    "import numpy as np\n",
    "\n",
    "a = np.array([1, 2, 3])\n",
    "b = 10\n",
    "\n",
    "print(a + b)  "
   ]
  },
  {
   "cell_type": "markdown",
   "id": "9f673209-2ede-4e77-931a-169f9b11f29d",
   "metadata": {},
   "source": [
    "# View"
   ]
  },
  {
   "cell_type": "code",
   "execution_count": 6,
   "id": "d80bdacf-126b-4c58-bde7-0589c6a5a6d2",
   "metadata": {},
   "outputs": [
    {
     "name": "stdout",
     "output_type": "stream",
     "text": [
      "[1 2]\n",
      "[1 2]\n",
      "[100   2   3]\n"
     ]
    }
   ],
   "source": [
    "arr = np.array([1, 2, 3])\n",
    "print(arr[0:2])\n",
    "view = arr[0:2]\n",
    "print(view)\n",
    "view[0] = 100\n",
    "\n",
    "print(arr) \n"
   ]
  },
  {
   "cell_type": "markdown",
   "id": "be3cccab-6185-424e-b9c9-e3c1edcf20d3",
   "metadata": {},
   "source": [
    "# Indexing and Slicing "
   ]
  },
  {
   "cell_type": "code",
   "execution_count": 10,
   "id": "bc4976f8-2a02-4dc0-9840-022439098cfc",
   "metadata": {},
   "outputs": [
    {
     "name": "stdout",
     "output_type": "stream",
     "text": [
      "1\n",
      "8\n",
      "[2 3]\n"
     ]
    }
   ],
   "source": [
    "arr=np.array([1,2,3,4,5,8])\n",
    "print(arr[0]) #1st element\n",
    "print(arr[-1]) #From last\n",
    "print(arr[1:3]) # 1-2 slicing"
   ]
  },
  {
   "cell_type": "markdown",
   "id": "94b5ffc4-a9ed-4f14-92a9-44fe491c1590",
   "metadata": {},
   "source": [
    "# Broadcasting"
   ]
  },
  {
   "cell_type": "code",
   "execution_count": 18,
   "id": "5be7cee4-7932-4a18-8378-8afceae7ce41",
   "metadata": {},
   "outputs": [
    {
     "name": "stdout",
     "output_type": "stream",
     "text": [
      "[24 25 26 27 28 29 30 30]\n",
      "[[11 22 33]\n",
      " [31 52 63]]\n"
     ]
    }
   ],
   "source": [
    "a=np.array([1,2,3,4,5,6,7,7])\n",
    "b=23\n",
    "print (a+b)\n",
    "d=np.array ([1,2,3])\n",
    "c=np.array([[10,20,30],\n",
    "            [30,50,60]])\n",
    "print(c+d)"
   ]
  },
  {
   "cell_type": "markdown",
   "id": "e873f977-6e17-4700-8ac8-a2eff370c150",
   "metadata": {},
   "source": [
    "# Boolean Indexing"
   ]
  },
  {
   "cell_type": "code",
   "execution_count": 21,
   "id": "2e0666e7-512f-4b39-8ccc-c7bf2deb7087",
   "metadata": {},
   "outputs": [
    {
     "name": "stdout",
     "output_type": "stream",
     "text": [
      "[False False False  True  True  True  True]\n",
      "[ 50  80 130 210]\n"
     ]
    }
   ],
   "source": [
    "a=np.array([10,20,30,50,80,130,210])\n",
    "print(a>=50) #checks which elements are greater than 50\n",
    "print(a[a>=50])"
   ]
  },
  {
   "cell_type": "markdown",
   "id": "23257a63-93ee-46b7-bd25-3c9faf663dd0",
   "metadata": {},
   "source": [
    "# Element wise op"
   ]
  },
  {
   "cell_type": "code",
   "execution_count": 30,
   "id": "6f2720ee-0e54-4c55-8ecc-c19c5e057d17",
   "metadata": {},
   "outputs": [
    {
     "name": "stdout",
     "output_type": "stream",
     "text": [
      "[ 3  7 11 15 19]\n",
      "[[ 11  23  36  47  59]\n",
      " [101 203 306 407 509]]\n",
      "[[False False False False  True]\n",
      " [ True  True  True  True  True]]\n",
      "[ 10  20  30  40  50 100 200]\n",
      "[ 2 12 30 56 90]\n",
      "[         1         81       7776    5764801 3486784401]\n",
      "[0 0 1 0 0]\n",
      "[1 3 1 7 9]\n",
      "[ True  True False  True  True]\n",
      "[False False False False False]\n"
     ]
    }
   ],
   "source": [
    "a=np.array([1,3,6,7,9])\n",
    "b=np.array([2,4,5,8,10])\n",
    "c=np.array([[10,20,30,40,50],\n",
    "           [100,200,300,400,500]])\n",
    "print(a+b)\n",
    "print(a+c)\n",
    "print(c>40)\n",
    "print(c[c<300])\n",
    "print(a*b)\n",
    "print(a**b)\n",
    "print(a//b)\n",
    "print(a%b)\n",
    "print(a<b)\n",
    "print(a==b)"
   ]
  },
  {
   "cell_type": "markdown",
   "id": "2ad7dcc1-5e72-45e5-af6a-f6c507d3c8d7",
   "metadata": {},
   "source": [
    "# Functions"
   ]
  },
  {
   "cell_type": "code",
   "execution_count": 32,
   "id": "8cf0e09d-7001-4fd7-9b7f-34c2e4b1bbcb",
   "metadata": {},
   "outputs": [
    {
     "name": "stdout",
     "output_type": "stream",
     "text": [
      "[46  6 63 49 21 72 20 60 72]\n",
      "6\n",
      "72\n",
      "1\n",
      "5\n"
     ]
    }
   ],
   "source": [
    "a=np.array([46,6,63,49,21,72,20,60,72,])\n",
    "print(a)\n",
    "print(a.min())    #smallest element\n",
    "print(a.max())    #largest elm\n",
    "print(a.argmin())   #position of min\n",
    "print(a.argmax()) #position of max"
   ]
  },
  {
   "cell_type": "markdown",
   "id": "7a6d4ebe-c680-4c49-84f5-5e6dc943c9a2",
   "metadata": {},
   "source": [
    "# Task 1"
   ]
  },
  {
   "cell_type": "code",
   "execution_count": 34,
   "id": "3087c6bc-58d3-4fbd-a33b-6eef3dbe37c1",
   "metadata": {},
   "outputs": [
    {
     "name": "stdout",
     "output_type": "stream",
     "text": [
      "[ 1  2  3  4  5  6  7  8  9 10 11 12 13 14 15 16 17 18 19 20]\n",
      "[1 2 3 4 5 6]\n"
     ]
    }
   ],
   "source": [
    "a=np.arange(1,21)\n",
    "print (a)\n",
    "print(a[0:6])"
   ]
  },
  {
   "cell_type": "markdown",
   "id": "f4563be2-59c1-49b2-b836-41816868037c",
   "metadata": {},
   "source": [
    "# Task 2"
   ]
  },
  {
   "cell_type": "code",
   "execution_count": 37,
   "id": "c96357f0-e6fb-401d-8dfb-52e2e7e6b9ec",
   "metadata": {},
   "outputs": [
    {
     "name": "stdout",
     "output_type": "stream",
     "text": [
      "[ 1  2  3  4  5  6  7  8  9 10 11 12 13 14 15 16]\n",
      "[[ 1  2  3  4]\n",
      " [ 5  6  7  8]\n",
      " [ 9 10 11 12]\n",
      " [13 14 15 16]]\n",
      "[ 1  6 11 16]\n"
     ]
    }
   ],
   "source": [
    "a=np.arange(1,17)\n",
    "print(a)\n",
    "ab=a.reshape(4,4)\n",
    "print(ab)\n",
    "c=np.diag(ab)\n",
    "print(c)\n"
   ]
  },
  {
   "cell_type": "markdown",
   "id": "675b8977-980b-41f4-831e-9d758bbc27c6",
   "metadata": {},
   "source": [
    "# Task 3"
   ]
  },
  {
   "cell_type": "code",
   "execution_count": 45,
   "id": "8b997b72-bfea-44a1-82ca-06b19e2aecd7",
   "metadata": {},
   "outputs": [
    {
     "name": "stdout",
     "output_type": "stream",
     "text": [
      "[ 41 -31  14 -40  -3 -46  43  20 -49  31   3 -25  24  32  29   8 -43  25\n",
      " -16 -25]\n",
      "[41  0 14  0  0  0 43 20  0 31  3  0 24 32 29  8  0 25  0  0]\n"
     ]
    }
   ],
   "source": [
    "a=np.random.randint(-50,50,size=20)\n",
    "print(a)\n",
    "b=a[0:]\n",
    "b[b<0]=0\n",
    "print(a)\n"
   ]
  },
  {
   "cell_type": "markdown",
   "id": "3dbcd25b-aaa4-4adb-8745-ece5f1021ce5",
   "metadata": {},
   "source": [
    "# Task 4"
   ]
  },
  {
   "cell_type": "code",
   "execution_count": 46,
   "id": "0fd5349c-9b85-4feb-b78e-e641a843c293",
   "metadata": {},
   "outputs": [
    {
     "name": "stdout",
     "output_type": "stream",
     "text": [
      "[[0 0 0 0 0 0 0 0 0 0]\n",
      " [0 0 0 0 0 0 0 0 0 0]\n",
      " [0 0 0 0 0 0 0 0 0 0]\n",
      " [0 0 0 0 0 0 0 0 0 0]\n",
      " [0 0 0 0 0 0 0 0 0 0]\n",
      " [0 0 0 0 0 0 0 0 0 0]\n",
      " [0 0 0 0 0 0 0 0 0 0]\n",
      " [0 0 0 0 0 0 0 0 0 0]\n",
      " [0 0 0 0 0 0 0 0 0 0]\n",
      " [0 0 0 0 0 0 0 0 0 0]]\n",
      "[[1 1 1 1 1 1 1 1 1 1]\n",
      " [1 0 0 0 0 0 0 0 0 1]\n",
      " [1 0 0 0 0 0 0 0 0 1]\n",
      " [1 0 0 0 0 0 0 0 0 1]\n",
      " [1 0 0 0 0 0 0 0 0 1]\n",
      " [1 0 0 0 0 0 0 0 0 1]\n",
      " [1 0 0 0 0 0 0 0 0 1]\n",
      " [1 0 0 0 0 0 0 0 0 1]\n",
      " [1 0 0 0 0 0 0 0 0 1]\n",
      " [1 1 1 1 1 1 1 1 1 1]]\n"
     ]
    }
   ],
   "source": [
    "a=np.zeros((10,10),dtype=int)\n",
    "print(a)\n",
    "a[0,:]=1\n",
    "a[-1,:]=1\n",
    "a[:,0]=1\n",
    "a[:,-1]=1\n",
    "print(a)"
   ]
  },
  {
   "cell_type": "markdown",
   "id": "c4a574d6-eb93-4785-a7b3-76e7bcf37b2d",
   "metadata": {},
   "source": [
    "# Task 5"
   ]
  },
  {
   "cell_type": "code",
   "execution_count": 47,
   "id": "f5d383d8-e2a3-4e2e-a2d3-7b65de094036",
   "metadata": {},
   "outputs": [
    {
     "name": "stdout",
     "output_type": "stream",
     "text": [
      "[11 38  1  8  1 33 28  8 10 39 24 33 16 38 30 39 26 37  8 11 43 28 42 24\n",
      " 32]\n",
      "[[11 38  1  8  1]\n",
      " [33 28  8 10 39]\n",
      " [24 33 16 38 30]\n",
      " [39 26 37  8 11]\n",
      " [43 28 42 24 32]]\n",
      "[[11 99  1  8  1]\n",
      " [99 99  8 10 99]\n",
      " [24 99 16 99 99]\n",
      " [99 99 99  8 11]\n",
      " [99 99 99 24 99]]\n"
     ]
    }
   ],
   "source": [
    "a=np.random.randint(1,51,size=25)\n",
    "print(a)\n",
    "a=a.reshape(5,5)\n",
    "print(a)\n",
    "a[a>25]=99\n",
    "print(a)"
   ]
  }
 ],
 "metadata": {
  "kernelspec": {
   "display_name": "Python 3 (ipykernel)",
   "language": "python",
   "name": "python3"
  },
  "language_info": {
   "codemirror_mode": {
    "name": "ipython",
    "version": 3
   },
   "file_extension": ".py",
   "mimetype": "text/x-python",
   "name": "python",
   "nbconvert_exporter": "python",
   "pygments_lexer": "ipython3",
   "version": "3.10.18"
  }
 },
 "nbformat": 4,
 "nbformat_minor": 5
}
