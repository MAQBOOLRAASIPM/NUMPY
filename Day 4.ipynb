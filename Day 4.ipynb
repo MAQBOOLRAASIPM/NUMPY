{
 "cells": [
  {
   "cell_type": "markdown",
   "id": "f13660a0-c5de-4a73-b81c-ca10ab0c2796",
   "metadata": {},
   "source": [
    "# Task 0"
   ]
  },
  {
   "cell_type": "code",
   "execution_count": 2,
   "id": "2ecca9b8-d476-4982-9c9c-ac38066e83bd",
   "metadata": {
    "scrolled": true
   },
   "outputs": [
    {
     "name": "stdout",
     "output_type": "stream",
     "text": [
      "Grades:\n",
      " [[85 78 92 74]\n",
      " [88 90 76 95]\n",
      " [70 65 80 72]\n",
      " [95 98 94 99]\n",
      " [60 75 68 70]]\n",
      "[82.25 87.25 71.75 96.5  68.25]\n",
      "[79.6 81.2 82.  82. ]\n"
     ]
    }
   ],
   "source": [
    "import numpy as np\n",
    "\n",
    "# Rows = students, Columns = subjects\n",
    "grades = np.array([\n",
    "    [85, 78, 92, 74],   # Student 1\n",
    "    [88, 90, 76, 95],   # Student 2\n",
    "    [70, 65, 80, 72],   # Student 3\n",
    "    [95, 98, 94, 99],   # Student 4\n",
    "    [60, 75, 68, 70]    # Student 5\n",
    "])\n",
    "\n",
    "print(\"Grades:\\n\", grades)\n",
    "\n",
    "a=np.mean(grades,axis=1)\n",
    "print(a)\n",
    "b=np.mean(grades,axis=0)\n",
    "print(b)"
   ]
  },
  {
   "cell_type": "markdown",
   "id": "0893623e-fe0b-4f24-aec7-e0162ba3b28b",
   "metadata": {},
   "source": [
    "# TASK 1"
   ]
  },
  {
   "cell_type": "code",
   "execution_count": 8,
   "id": "020ff879-0a2f-49cf-99e3-6cb2004a3343",
   "metadata": {},
   "outputs": [
    {
     "name": "stdout",
     "output_type": "stream",
     "text": [
      "[[ 0  1  2  3 17 18 19 20]\n",
      " [ 4  5  6  7 21 22 23 24]\n",
      " [ 8  9 10 11 25 26 27 28]\n",
      " [12 13 14 15 29 30 31 32]]\n"
     ]
    }
   ],
   "source": [
    "a=np.arange(0,16)\n",
    "a=a.reshape(4,4)\n",
    "b=np.arange(17,33)\n",
    "b=b.reshape(4,4)\n",
    "c=np.hstack((a,b))\n",
    "print(c)"
   ]
  },
  {
   "cell_type": "code",
   "execution_count": 9,
   "id": "1cd03963-e015-400f-b849-99ded14f9a22",
   "metadata": {},
   "outputs": [
    {
     "name": "stdout",
     "output_type": "stream",
     "text": [
      "[[ 0  1  2  3]\n",
      " [ 4  5  6  7]\n",
      " [ 8  9 10 11]\n",
      " [12 13 14 15]\n",
      " [17 18 19 20]\n",
      " [21 22 23 24]\n",
      " [25 26 27 28]\n",
      " [29 30 31 32]]\n"
     ]
    }
   ],
   "source": [
    "a=np.arange(0,16)\n",
    "a=a.reshape(4,4)\n",
    "b=np.arange(17,33)\n",
    "b=b.reshape(4,4)\n",
    "c=np.vstack((a,b))\n",
    "print(c)"
   ]
  },
  {
   "cell_type": "markdown",
   "id": "98648774-d731-402f-8a25-62f5503b4bb6",
   "metadata": {},
   "source": [
    "# TASK 2"
   ]
  },
  {
   "cell_type": "code",
   "execution_count": 13,
   "id": "611e15d2-5007-4302-9c04-4910d9df015c",
   "metadata": {},
   "outputs": [
    {
     "name": "stdout",
     "output_type": "stream",
     "text": [
      "[array([0, 1, 2, 3, 4, 5, 6, 7]), array([ 8,  9, 10, 11, 12, 13, 14, 15])]\n"
     ]
    }
   ],
   "source": [
    "a=np.arange(16)\n",
    "b=np.split(a,2)\n",
    "print(b)"
   ]
  },
  {
   "cell_type": "code",
   "execution_count": 14,
   "id": "b1e63f54-0286-4660-822d-d6886ee63fd4",
   "metadata": {},
   "outputs": [
    {
     "name": "stdout",
     "output_type": "stream",
     "text": [
      "[[[0 1]\n",
      "  [2 3]]\n",
      "\n",
      " [[4 5]\n",
      "  [6 7]]]\n"
     ]
    }
   ],
   "source": [
    "a=np.arange(8)\n",
    "a=a.reshape(2,2,2)\n",
    "print(a)"
   ]
  },
  {
   "cell_type": "markdown",
   "id": "d0639d07-6a43-448d-9794-8045e1eac1ac",
   "metadata": {},
   "source": [
    "# TASK 3"
   ]
  },
  {
   "cell_type": "code",
   "execution_count": 17,
   "id": "7f4b8fc0-8b9d-4363-b019-392b294faa35",
   "metadata": {},
   "outputs": [
    {
     "name": "stdout",
     "output_type": "stream",
     "text": [
      "[  0 100   2   3   4   5   6   7   8   9  10  11  12  13  14  15  16  17\n",
      "  18  19  20  21  22  23  24  25  26  27  28  29]\n",
      "[  0 100   2   3   4   5   6   7   8   9 100  11  12  13  14  15  16  17\n",
      "  18  19  20  21  22  23  24  25  26  27  28  29]\n",
      "[  0 100   2   3   4   5   6   7   8   9  10  11  12  13  14  15  16  17\n",
      "  18  19  20  21  22  23  24  25  26  27  28  29]\n"
     ]
    }
   ],
   "source": [
    "a=np.arange(30)\n",
    "b=a #creates a view if we change 'b' ,'a' will also change\n",
    "b[1]=100\n",
    "print(a)\n",
    "c=np.copy(a) #creates a copy , changes made in 'c' does not affect 'a'\n",
    "c[10]=100\n",
    "print(c)\n",
    "print(a)"
   ]
  },
  {
   "cell_type": "markdown",
   "id": "b728b37e-e1a2-474e-abba-dd312d4335e0",
   "metadata": {},
   "source": [
    "# TASK 4"
   ]
  },
  {
   "cell_type": "code",
   "execution_count": 6,
   "id": "1484fe74-2627-4aa0-a810-62f773ffc835",
   "metadata": {},
   "outputs": [
    {
     "name": "stdout",
     "output_type": "stream",
     "text": [
      "[ 0  1  2  3  4  5  6  7  8  9 10 11 12 13 14 15 37 42 48 36 47 38 47 51\n",
      " 39 32 53 54 52 30 39 55]\n",
      "[[ 0  1  2  3  4  5  6  7  8  9 10 11 12 13 14 15]\n",
      " [37 42 48 36 47 38 47 51 39 32 53 54 52 30 39 55]]\n",
      "[ 0  1  2  3  4  5  6  7  8  9 10 11 12 13 14 15 37 42 48 36 47 38 47 51\n",
      " 39 32 53 54 52 30 39 55]\n",
      "[[ 0 37]\n",
      " [ 1 42]\n",
      " [ 2 48]\n",
      " [ 3 36]\n",
      " [ 4 47]\n",
      " [ 5 38]\n",
      " [ 6 47]\n",
      " [ 7 51]\n",
      " [ 8 39]\n",
      " [ 9 32]\n",
      " [10 53]\n",
      " [11 54]\n",
      " [12 52]\n",
      " [13 30]\n",
      " [14 39]\n",
      " [15 55]]\n"
     ]
    }
   ],
   "source": [
    "#concatenate\n",
    "a=np.arange(16)\n",
    "b=np.random.randint(30,60,size=16)\n",
    "c=np.concatenate((a,b),axis=0)\n",
    "print(c)\n",
    "#vstack\n",
    "d=np.vstack((a,b))\n",
    "print(d)\n",
    "#hstack\n",
    "e=np.hstack((a,b))\n",
    "print(e)\n",
    "#stack\n",
    "f=np.stack((a,b),axis=1)\n",
    "print(f)"
   ]
  },
  {
   "cell_type": "code",
   "execution_count": 34,
   "id": "4253e99a-efb1-49df-8400-bdc4bc4cf43e",
   "metadata": {},
   "outputs": [
    {
     "name": "stdout",
     "output_type": "stream",
     "text": [
      "[1 2 3 4 5 6]\n",
      "[[1 2 3]\n",
      " [4 5 6]]\n",
      "[1 2 3 4 5 6]\n",
      "[[1 4]\n",
      " [2 5]\n",
      " [3 6]]\n"
     ]
    }
   ],
   "source": [
    "a=np.array([1,2,3])\n",
    "b=np.array([4,5,6])\n",
    "print(np.concatenate((a,b)))\n",
    "print(np.vstack((a,b)))\n",
    "print(np.hstack((a,b)))\n",
    "print(np.stack((a,b),axis=1))"
   ]
  },
  {
   "cell_type": "markdown",
   "id": "c8f8fac0-51d5-42cd-886b-4afb29aca885",
   "metadata": {},
   "source": [
    "# TASK 5"
   ]
  },
  {
   "cell_type": "code",
   "execution_count": 39,
   "id": "0f83fd91-16de-44bf-add3-e0ce56a2a17f",
   "metadata": {},
   "outputs": [
    {
     "name": "stdout",
     "output_type": "stream",
     "text": [
      "[[1. 0. 0.]\n",
      " [0. 1. 0.]\n",
      " [0. 0. 1.]\n",
      " [1. 0. 0.]\n",
      " [0. 1. 0.]\n",
      " [0. 0. 1.]]\n"
     ]
    }
   ],
   "source": [
    "a=np.eye(3)\n",
    "b=np.vstack((a,a))\n",
    "print(b)"
   ]
  },
  {
   "cell_type": "markdown",
   "id": "4c44fb73-ce90-4660-88d8-ac4683270c74",
   "metadata": {},
   "source": [
    "# TASK 6"
   ]
  },
  {
   "cell_type": "code",
   "execution_count": 7,
   "id": "dca44d80-529c-4459-a4ef-105d331aa67f",
   "metadata": {},
   "outputs": [
    {
     "name": "stdout",
     "output_type": "stream",
     "text": [
      "[17 23 21 45 24 20 20 15 20 23 13 42 33 47 21 35 21  8 36 20]\n",
      "[array([17, 23, 21, 45, 24], dtype=int32), array([20, 20, 15, 20, 23], dtype=int32), array([13, 42, 33, 47, 21], dtype=int32), array([35, 21,  8, 36, 20], dtype=int32)]\n"
     ]
    }
   ],
   "source": [
    "a=np.random.randint(1,50,size=20)\n",
    "b=np.split(a,4)\n",
    "print(a)\n",
    "print(b)"
   ]
  },
  {
   "cell_type": "markdown",
   "id": "6f355b18-828d-45f2-af89-d4f8b2bfce08",
   "metadata": {},
   "source": [
    "# TASK 7"
   ]
  },
  {
   "cell_type": "code",
   "execution_count": 49,
   "id": "273c51ae-6bc4-4631-9c92-fb546100c508",
   "metadata": {},
   "outputs": [
    {
     "name": "stdout",
     "output_type": "stream",
     "text": [
      "[ 0 85  2  3  4  5  6  7  8  9 10 11 12 13 14 15 16 17 18 19]\n",
      "[ 0 85  2  3  4  5  6  7  8  9 10 11 12 13 14 15 16 17 18 19]\n",
      "[ 0 85  2  3  4  5  6  7  8  9 10 11 12 13 14 15 16 17 18 19]\n",
      "[ 0  2  2  3  4  5  6  7  8  9 10 11 12 13 14 15 16 17 18 19]\n"
     ]
    }
   ],
   "source": [
    "a=np.arange(20)\n",
    "b=a\n",
    "b[1]=85\n",
    "print(a)\n",
    "print(b)\n",
    "c=a.copy()\n",
    "c[1]=2\n",
    "print(a)\n",
    "print(c)"
   ]
  },
  {
   "cell_type": "markdown",
   "id": "8d1f92d2-717a-4b34-9388-e5ef83b47572",
   "metadata": {},
   "source": [
    "# TASK 8"
   ]
  },
  {
   "cell_type": "code",
   "execution_count": 53,
   "id": "08e7b96f-d35c-4e3b-ba7c-00e8ed0784cc",
   "metadata": {},
   "outputs": [
    {
     "name": "stdout",
     "output_type": "stream",
     "text": [
      "[[13 52  2]\n",
      " [35 93 52]]\n",
      "[[87 95 29]\n",
      " [42 34 94]]\n",
      "[[13 52  2 87 95 29]\n",
      " [35 93 52 42 34 94]]\n"
     ]
    }
   ],
   "source": [
    "a=np.random.randint(100,size=(2,3))\n",
    "b=np.random.randint(100,size=(2,3))\n",
    "print(a)\n",
    "print(b)\n",
    "c=np.hstack((a,b))\n",
    "print(c)"
   ]
  },
  {
   "cell_type": "code",
   "execution_count": null,
   "id": "7010f55c-e4c5-46f5-b9c4-63fd899e0ff6",
   "metadata": {},
   "outputs": [],
   "source": []
  },
  {
   "cell_type": "code",
   "execution_count": null,
   "id": "5f69b641-31db-454f-a51b-cd24c4b297ef",
   "metadata": {},
   "outputs": [],
   "source": []
  }
 ],
 "metadata": {
  "kernelspec": {
   "display_name": "Python 3 (ipykernel)",
   "language": "python",
   "name": "python3"
  },
  "language_info": {
   "codemirror_mode": {
    "name": "ipython",
    "version": 3
   },
   "file_extension": ".py",
   "mimetype": "text/x-python",
   "name": "python",
   "nbconvert_exporter": "python",
   "pygments_lexer": "ipython3",
   "version": "3.10.18"
  }
 },
 "nbformat": 4,
 "nbformat_minor": 5
}
