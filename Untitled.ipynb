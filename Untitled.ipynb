{
 "cells": [
  {
   "cell_type": "code",
   "execution_count": 1,
   "id": "fd790ed1-bbdf-4c96-8229-3f6eea3e2e29",
   "metadata": {},
   "outputs": [
    {
     "name": "stdout",
     "output_type": "stream",
     "text": [
      "[11 91 88 76 95 34 68 24  5 50]\n"
     ]
    }
   ],
   "source": [
    "import numpy as np\n",
    "arr=np.random.randint(1,101,10)\n",
    "print(arr)"
   ]
  },
  {
   "cell_type": "code",
   "execution_count": 2,
   "id": "9bb9e9a2-adeb-44ef-94a3-4d23a9511324",
   "metadata": {},
   "outputs": [
    {
     "name": "stdout",
     "output_type": "stream",
     "text": [
      "[[11 11 12  9 11]\n",
      " [15 10 10  6  9]]\n",
      "[[28 24 36 14 28]\n",
      " [56 21 24  8 20]]\n",
      "[[1.75       0.375      1.         0.28571429 0.57142857]\n",
      " [0.875      0.42857143 1.5        0.5        0.8       ]]\n",
      "[[   2401    6561   46656     128   16384]\n",
      " [5764801    2187    1296      16    1024]]\n",
      "[[1 0 1 0 0]\n",
      " [0 0 1 0 0]]\n"
     ]
    }
   ],
   "source": [
    "a=np.random.randint(1,10,5)\n",
    "b=np.random.randint(1,10,size=(2,5))\n",
    "print(a+b)\n",
    "print(a*b)\n",
    "print(a/b)\n",
    "print(a**b)\n",
    "print(a//b)"
   ]
  },
  {
   "cell_type": "code",
   "execution_count": 6,
   "id": "6d0d67eb-d6de-49e2-afba-3272e5270ad5",
   "metadata": {},
   "outputs": [
    {
     "name": "stdout",
     "output_type": "stream",
     "text": [
      "[77 47 78 84 26 67 62 54 40 51 41 95 39 75 97 64 79 89 42 78  6  1 49 28\n",
      "  9 47 32 63 56 41 53 53 52  9 86 74 10 68 87 32 95 44 50 50 59 97 86 26\n",
      " 94 51]\n",
      "\n",
      "55.86\n",
      "\n",
      "53.0\n",
      "\n",
      "97\n",
      "1\n"
     ]
    }
   ],
   "source": [
    "a=np.random.randint(1,100,50)\n",
    "print(a)\n",
    "print()\n",
    "print(np.mean(a))\n",
    "print()\n",
    "print(np.median(a))\n",
    "print()\n",
    "print(np.max(a))\n",
    "print(np.min(a))"
   ]
  },
  {
   "cell_type": "code",
   "execution_count": 8,
   "id": "f27132b9-5c9e-4ab3-a2f0-ecaad75527dc",
   "metadata": {},
   "outputs": [
    {
     "name": "stdout",
     "output_type": "stream",
     "text": [
      "[[ 1  2  3  4  5]\n",
      " [ 6  7  8  9 10]\n",
      " [11 12 13 14 15]\n",
      " [16 17 18 19 20]\n",
      " [21 22 23 24 25]]\n",
      "\n",
      "[ 1  7 13 19 25]\n"
     ]
    }
   ],
   "source": [
    "a=np.arange(1,26).reshape(5,5)\n",
    "print(a)\n",
    "print()\n",
    "print(np.diag(a))"
   ]
  },
  {
   "cell_type": "code",
   "execution_count": null,
   "id": "debe272e-33b6-408f-a925-ce0b1fb034ff",
   "metadata": {},
   "outputs": [],
   "source": [
    "a=np.random.randint(-50,50,20)\n",
    "print(a)\n",
    "a[a]"
   ]
  }
 ],
 "metadata": {
  "kernelspec": {
   "display_name": "Python 3 (ipykernel)",
   "language": "python",
   "name": "python3"
  },
  "language_info": {
   "codemirror_mode": {
    "name": "ipython",
    "version": 3
   },
   "file_extension": ".py",
   "mimetype": "text/x-python",
   "name": "python",
   "nbconvert_exporter": "python",
   "pygments_lexer": "ipython3",
   "version": "3.10.18"
  }
 },
 "nbformat": 4,
 "nbformat_minor": 5
}
