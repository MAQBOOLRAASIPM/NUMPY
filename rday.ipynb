{
 "cells": [
  {
   "cell_type": "code",
   "execution_count": 1,
   "id": "a42d33f4-c7a8-492e-94af-de109e254526",
   "metadata": {},
   "outputs": [
    {
     "name": "stdout",
     "output_type": "stream",
     "text": [
      "[[1 2 3]\n",
      " [4 5 6]]\n"
     ]
    }
   ],
   "source": [
    "import numpy as np\n",
    "arr1=np.array([[1,2,3],[4,5,6]])\n",
    "print(arr1)"
   ]
  },
  {
   "cell_type": "code",
   "execution_count": 2,
   "id": "1535b31f-6093-4ecb-bae2-08e74d682116",
   "metadata": {},
   "outputs": [
    {
     "name": "stdout",
     "output_type": "stream",
     "text": [
      "[[1 2 3]\n",
      " [4 5 6]]\n"
     ]
    }
   ],
   "source": [
    "arr2=np.arange(1,7).reshape(2,3)\n",
    "print(arr2)"
   ]
  },
  {
   "cell_type": "code",
   "execution_count": 8,
   "id": "0cb4aeea-3e9c-4b62-9aab-78fcb753b5d8",
   "metadata": {},
   "outputs": [
    {
     "name": "stdout",
     "output_type": "stream",
     "text": [
      "[[0. 0. 0. 0. 0. 0. 0.]]\n"
     ]
    }
   ],
   "source": [
    "arr3=np.zeros((1,7))\n",
    "print(arr3)"
   ]
  },
  {
   "cell_type": "code",
   "execution_count": 14,
   "id": "3986b0cf-a0ef-4ba6-9dba-9b81bf4cde47",
   "metadata": {},
   "outputs": [
    {
     "name": "stdout",
     "output_type": "stream",
     "text": [
      "[[1 1 1]]\n",
      "(1, 3)\n",
      "3\n",
      "int64\n"
     ]
    }
   ],
   "source": [
    "a=np.ones((1,3),dtype=int)\n",
    "print(a)\n",
    "print(a.shape)\n",
    "print(a.size)\n",
    "print(a.dtype)"
   ]
  },
  {
   "cell_type": "code",
   "execution_count": 15,
   "id": "14c6fa07-4277-42bc-8a7e-90065e5523a8",
   "metadata": {},
   "outputs": [
    {
     "name": "stdout",
     "output_type": "stream",
     "text": [
      "[ 1  2  3  4  5  6  7  8  9 10]\n",
      "[ 1  2  3  4  5  6  7  8  9 10]\n"
     ]
    }
   ],
   "source": [
    "a=np.array([1,2,3,4,5,6,7,8,9,10])\n",
    "print(a)\n",
    "a=np.arange(1,11)\n",
    "print(a)"
   ]
  },
  {
   "cell_type": "code",
   "execution_count": 10,
   "id": "34ab61ba-0e71-4e22-a1ec-79be27a998be",
   "metadata": {},
   "outputs": [
    {
     "name": "stdout",
     "output_type": "stream",
     "text": [
      "[20 22 24 26 28 30 32 34 36 38 40]\n",
      "[40 44 48 52 56 60 64 68 72 76 80]\n"
     ]
    }
   ],
   "source": [
    "a=np.arange(20,41,2)\n",
    "print(a)\n",
    "print(a*2)"
   ]
  },
  {
   "cell_type": "code",
   "execution_count": 24,
   "id": "7c82f1f4-7ef6-4da1-ae43-a9f93c7a1ad5",
   "metadata": {},
   "outputs": [
    {
     "name": "stdout",
     "output_type": "stream",
     "text": [
      "[24 34  1 40 14 23 44 30 36 36  2  3 32 49 13 37 29 44 37  2]\n",
      "[ 1 23  3 49 13 37 29 37]\n"
     ]
    }
   ],
   "source": [
    "a=np.random.randint(1,51,20)\n",
    "print(a)\n",
    "print(a[a%2!=0])"
   ]
  },
  {
   "cell_type": "code",
   "execution_count": 25,
   "id": "90978a13-2b3c-4c9a-8446-882d7af61261",
   "metadata": {},
   "outputs": [
    {
     "name": "stdout",
     "output_type": "stream",
     "text": [
      "[[ 1  2  3  4  5  6]\n",
      " [ 7  8  9 10 11 12]\n",
      " [13 14 15 16 17 18]\n",
      " [19 20 21 22 23 24]\n",
      " [25 26 27 28 29 30]\n",
      " [31 32 33 34 35 36]]\n"
     ]
    }
   ],
   "source": [
    "a=np.arange(1,37).reshape(6,6)\n",
    "print(a)"
   ]
  },
  {
   "cell_type": "code",
   "execution_count": 34,
   "id": "e4f15155-366b-4e47-836a-73752abc6577",
   "metadata": {},
   "outputs": [
    {
     "name": "stdout",
     "output_type": "stream",
     "text": [
      "[[20  5]\n",
      " [ 2 13]]\n",
      "[[5]]\n"
     ]
    }
   ],
   "source": [
    "a=np.random.randint(1,30,size=(2,2))\n",
    "print(a)\n",
    "print(a[0:1,1:2])"
   ]
  },
  {
   "cell_type": "code",
   "execution_count": 41,
   "id": "fb1d134c-f20e-4dc0-9897-ada5b4e165b7",
   "metadata": {},
   "outputs": [
    {
     "name": "stdout",
     "output_type": "stream",
     "text": [
      "[[ 1  2  3  4  5  6  7]\n",
      " [ 8  9 10 11 12 13 14]\n",
      " [15 16 17 18 19 20 21]\n",
      " [22 23 24 25 26 27 28]\n",
      " [29 30 31 32 33 34 35]\n",
      " [36 37 38 39 40 41 42]\n",
      " [43 44 45 46 47 48 49]]\n",
      "\n",
      "[[25]]\n"
     ]
    }
   ],
   "source": [
    "a=np.arange(1,50).reshape(7,7)\n",
    "print(a)\n",
    "print()\n",
    "print(a[3:4,3:4])"
   ]
  },
  {
   "cell_type": "code",
   "execution_count": 50,
   "id": "a765ed2f-c886-45ba-b51e-a7377b8eadb4",
   "metadata": {},
   "outputs": [
    {
     "name": "stdout",
     "output_type": "stream",
     "text": [
      "[[45 26 10 20]\n",
      " [19  6  3  2]\n",
      " [27 19 23 15]\n",
      " [34 12  6 40]]\n",
      "None\n",
      "[[ 5 26 10 20]\n",
      " [19  5  3  2]\n",
      " [27 19  5 15]\n",
      " [34 12  6  5]]\n",
      "[5 5 5 5]\n"
     ]
    }
   ],
   "source": [
    "a=np.random.randint(1,50,size=(4,4))\n",
    "print(a)\n",
    "print((np.fill_diagonal(a,5)))\n",
    "print(a)\n",
    "print(np.diag(a))"
   ]
  },
  {
   "cell_type": "code",
   "execution_count": 52,
   "id": "dbb59342-df03-4d4c-936a-d3d6528880c2",
   "metadata": {},
   "outputs": [
    {
     "name": "stdout",
     "output_type": "stream",
     "text": [
      "[33  0 15 13  0 41  1  0  0 49  0  0  0  0 31  1 16 34 40  0  0  0 16 21\n",
      "  0 26 22  0  0 23 21  8  0  0 44  6 19  0 48 15  0 14  0  0 30  0  5  0\n",
      "  0  0]\n"
     ]
    }
   ],
   "source": [
    "a=np.random.randint(-50,50,size=50)\n",
    "a[a<0]=0\n",
    "print(a)"
   ]
  },
  {
   "cell_type": "code",
   "execution_count": 63,
   "id": "00b04524-b8a8-4575-9189-5b70cf303612",
   "metadata": {},
   "outputs": [
    {
     "name": "stdout",
     "output_type": "stream",
     "text": [
      "[[ 1  1  1  1  1  1  1  1  1  1]\n",
      " [55 52 32 76 65 58 86 12 31 23]\n",
      " [91 81 30 98 55 42 62  7 19 30]\n",
      " [13 51 52 11 30  7 16 62 59 11]\n",
      " [77 41 16 87  7 80 14 45 32 88]\n",
      " [70 90  8 66 83 45 67  5 62 98]\n",
      " [79 82 67 72 10 17 78 51 86 89]\n",
      " [43 21 24 30 49 74 59 41 28 50]\n",
      " [43 29 70 55  1 76 39 77 84 82]\n",
      " [88 26 30  9 86 65 12 82 92 78]]\n",
      "\n",
      "[[ 1  1  1  1  1  1  1  1  1  1]\n",
      " [55 52 32 76 65 58 86 12 31 23]\n",
      " [91 81 30 98 55 42 62  7 19 30]\n",
      " [13 51 52 11 30  7 16 62 59 11]\n",
      " [77 41 16 87  7 80 14 45 32 88]\n",
      " [70 90  8 66 83 45 67  5 62 98]\n",
      " [79 82 67 72 10 17 78 51 86 89]\n",
      " [43 21 24 30 49 74 59 41 28 50]\n",
      " [43 29 70 55  1 76 39 77 84 82]\n",
      " [ 1  1  1  1  1  1  1  1  1  1]]\n",
      "[[ 1  1  1  1  1  1  1  1  1  1]\n",
      " [ 1 52 32 76 65 58 86 12 31  1]\n",
      " [ 1 81 30 98 55 42 62  7 19  1]\n",
      " [ 1 51 52 11 30  7 16 62 59  1]\n",
      " [ 1 41 16 87  7 80 14 45 32  1]\n",
      " [ 1 90  8 66 83 45 67  5 62  1]\n",
      " [ 1 82 67 72 10 17 78 51 86  1]\n",
      " [ 1 21 24 30 49 74 59 41 28  1]\n",
      " [ 1 29 70 55  1 76 39 77 84  1]\n",
      " [ 1  1  1  1  1  1  1  1  1  1]]\n",
      "[[1 1 1 1 1 1 1 1 1 1]\n",
      " [1 0 0 0 0 0 0 0 0 1]\n",
      " [1 0 0 0 0 0 0 0 0 1]\n",
      " [1 0 0 0 0 0 0 0 0 1]\n",
      " [1 0 0 0 0 0 0 0 0 1]\n",
      " [1 0 0 0 0 0 0 0 0 1]\n",
      " [1 0 0 0 0 0 0 0 0 1]\n",
      " [1 0 0 0 0 0 0 0 0 1]\n",
      " [1 0 0 0 0 0 0 0 0 1]\n",
      " [1 1 1 1 1 1 1 1 1 1]]\n"
     ]
    }
   ],
   "source": [
    "a=np.random.randint(1,100,size=(10,10))\n",
    "a[0]=1\n",
    "print(a)\n",
    "print()\n",
    "a[-1]=1\n",
    "print(a)\n",
    "a[:,0]=1\n",
    "a[:,-1]=1\n",
    "print(a)\n",
    "a[1:9,1:9]=0\n",
    "print(a)\n"
   ]
  },
  {
   "cell_type": "code",
   "execution_count": 70,
   "id": "42f6169c-31f7-4946-a4f2-1fc3581b8117",
   "metadata": {},
   "outputs": [
    {
     "name": "stdout",
     "output_type": "stream",
     "text": [
      "[[29  3 17 26 36]\n",
      " [21 29 18 24 27]\n",
      " [23  1 17 33  6]\n",
      " [30 10 13 28 47]\n",
      " [22 46  3 40 28]]\n",
      "\n",
      "[[99  3 17 99 99]\n",
      " [21 99 18 24 99]\n",
      " [23  1 17 99  6]\n",
      " [99 10 13 99 99]\n",
      " [22 99  3 99 99]]\n",
      "[99  3 17 99 99 21 99 18 24 99 23  1 17 99  6 99 10 13 99 99 22 99  3 99\n",
      " 99]\n"
     ]
    }
   ],
   "source": [
    "a=np.random.randint(1,50,size=(5,5))\n",
    "print(a)\n",
    "a[a>25]=99\n",
    "print()\n",
    "print(a)\n",
    "a=a.flatten()\n",
    "print(a)"
   ]
  },
  {
   "cell_type": "code",
   "execution_count": 71,
   "id": "b5ae3282-6c12-4e75-a3b3-d621c313880b",
   "metadata": {},
   "outputs": [
    {
     "name": "stdout",
     "output_type": "stream",
     "text": [
      "[[40  5 15 29]\n",
      " [19 10 13 36]\n",
      " [43 43  3  6]]\n",
      "[[40 19 43]\n",
      " [ 5 10 43]\n",
      " [15 13  3]\n",
      " [29 36  6]]\n"
     ]
    }
   ],
   "source": [
    "a=np.random.randint(1,50,size=(3,4))\n",
    "print(a)\n",
    "print(np.transpose(a))"
   ]
  },
  {
   "cell_type": "code",
   "execution_count": 8,
   "id": "0e3beb3a-3696-4016-8de3-701d894dddbd",
   "metadata": {},
   "outputs": [
    {
     "name": "stdout",
     "output_type": "stream",
     "text": [
      "[ 5.          6.42857143  7.85714286  9.28571429 10.71428571 12.14285714\n",
      " 13.57142857 15.         16.42857143 17.85714286 19.28571429 20.71428571\n",
      " 22.14285714 23.57142857 25.        ]\n"
     ]
    }
   ],
   "source": [
    "a=np.linspace(5,25,15)\n",
    "print(a)"
   ]
  },
  {
   "cell_type": "code",
   "execution_count": 9,
   "id": "08395ae9-cb4b-48cd-8209-dfd667a894c1",
   "metadata": {},
   "outputs": [
    {
     "name": "stdout",
     "output_type": "stream",
     "text": [
      "[[98 51 92 56]\n",
      " [59 65 56 95]\n",
      " [99 88 92 50]\n",
      " [69 56 96 72]]\n"
     ]
    }
   ],
   "source": [
    "a=np.random.randint(50,100,size=(4,4))\n",
    "print(a)"
   ]
  },
  {
   "cell_type": "code",
   "execution_count": 14,
   "id": "dd3fe60f-642f-4fe3-94fd-f48871f21aa7",
   "metadata": {},
   "outputs": [
    {
     "name": "stdout",
     "output_type": "stream",
     "text": [
      "[[16 15 10]]\n"
     ]
    }
   ],
   "source": [
    "a=np.random.randint(1,5,size=(2,3))\n",
    "b=np.random.randint(1,10,size=(1,2))\n",
    "print(b@a)"
   ]
  },
  {
   "cell_type": "code",
   "execution_count": null,
   "id": "16e1b274-4ff4-45cc-91f1-b1eb7d44e5e7",
   "metadata": {},
   "outputs": [],
   "source": []
  }
 ],
 "metadata": {
  "kernelspec": {
   "display_name": "Python 3 (ipykernel)",
   "language": "python",
   "name": "python3"
  },
  "language_info": {
   "codemirror_mode": {
    "name": "ipython",
    "version": 3
   },
   "file_extension": ".py",
   "mimetype": "text/x-python",
   "name": "python",
   "nbconvert_exporter": "python",
   "pygments_lexer": "ipython3",
   "version": "3.10.18"
  }
 },
 "nbformat": 4,
 "nbformat_minor": 5
}
